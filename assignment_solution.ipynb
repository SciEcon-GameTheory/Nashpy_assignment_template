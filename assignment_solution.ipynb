{
  "nbformat": 4,
  "nbformat_minor": 0,
  "metadata": {
    "kernelspec": {
      "display_name": "Python 3",
      "language": "python",
      "name": "python3"
    },
    "language_info": {
      "codemirror_mode": {
        "name": "ipython",
        "version": 3
      },
      "file_extension": ".py",
      "mimetype": "text/x-python",
      "name": "python",
      "nbconvert_exporter": "python",
      "pygments_lexer": "ipython3",
      "version": "3.8.5"
    },
    "colab": {
      "name": "assignment_solution.ipynb",
      "provenance": [],
      "collapsed_sections": []
    }
  },
  "cells": [
    {
      "cell_type": "markdown",
      "metadata": {
        "id": "PEsZmQSf3LhZ"
      },
      "source": [
        "<font size = 6> Week 1 Assignment Solutions</font>"
      ]
    },
    {
      "cell_type": "markdown",
      "metadata": {
        "id": "qZJqM7iv3Lhb"
      },
      "source": [
        "<font face = Times size=4>\n",
        "\n",
        "***Nash Equilibrium:***\n",
        "    \n",
        "Nash Equilibrium captures a steady state of the play of a strategic game in which each player holds the correct expectation about the other players' behavior and acts rationally. It does not attempt to examine the process by which a steady state is reached.\n",
        "    \n",
        "</font>"
      ]
    },
    {
      "cell_type": "markdown",
      "metadata": {
        "id": "Qqc9Pqeq3Lhc"
      },
      "source": [
        "<font face = Times size=4>\n",
        "\n",
        "***Definition 1 - Nash equilibrium:***\n",
        "A Nash equilibrium of a strategic game $\\left\\langle N,\\left(A_{i}\\right)\\right.$, $\\left.\\left(\\succsim_{i}\\right)\\right\\rangle$ is a profile $a^{*} \\in A$ of actions with the property that for every player $i \\in N$ we have\n",
        "$$\n",
        "\\left(a_{-i}^{*}, a_{i}^{*}\\right) \\succsim_{i}\\left(a_{-i}^{*}, a_{i}\\right) \\text { for all } a_{i} \\in A_{i}\n",
        "$$\n",
        "Thus for $a^{*}$ to be a Nash equilibrium it must be that no player $i$ has an action yielding an outcome that he prefers to that generated when he chooses $a_{i}^{*}$, given that every other player $j$ chooses his equilibrium action $a_{j}^{*}$. Briefly, no player can profitably deviate, given the actions of the other players.  \n",
        "    \n",
        "</font>"
      ]
    },
    {
      "cell_type": "markdown",
      "metadata": {
        "id": "yi91l9lp3Lhc"
      },
      "source": [
        "<font face = Times size=4>\n",
        "\n",
        "***Definition 2 - Pure strategy and pure strategy Nash equilibruim:*** A pure strategy simply involves making a choice of which action to play when the game starts. Pure strategy Nash equilibria are Nash equilibria where all players are playing pure strategies.\n",
        "    \n",
        "***Definition 3 - Mixed strategy and mixed strategy Nash equilibruim:*** A mixed strategy involves choosing a **probability** with which each action will be played once the game commences. Mixed strategy Nash equilibria are equilibria where at least one player is playing a mixed strategy.\n",
        "\n",
        "\n",
        "</font>"
      ]
    },
    {
      "cell_type": "markdown",
      "metadata": {
        "id": "PCOQBTIX3Lhd"
      },
      "source": [
        "<font face = Times size=4>\n",
        "\n",
        "***Property :*** John Forbes Nash proved that there is an equilibrium for every finite game, however, not all have pure strategy Nash equilibria.\n",
        "    \n",
        "\n",
        "</font>"
      ]
    },
    {
      "cell_type": "code",
      "metadata": {
        "colab": {
          "base_uri": "https://localhost:8080/"
        },
        "id": "1skFD4fJsax2",
        "outputId": "11572057-425a-4be0-9fbe-b334399b4200"
      },
      "source": [
        "# install the tools you will use later\n",
        "!pip install --upgrade setuptools\n",
        "!pip install --upgrade pip\n",
        "!pip install nashpy"
      ],
      "execution_count": null,
      "outputs": [
        {
          "output_type": "stream",
          "text": [
            "Requirement already up-to-date: setuptools in /usr/local/lib/python3.7/dist-packages (57.0.0)\n",
            "Collecting pip\n",
            "\u001b[?25l  Downloading https://files.pythonhosted.org/packages/cd/82/04e9aaf603fdbaecb4323b9e723f13c92c245f6ab2902195c53987848c78/pip-21.1.2-py3-none-any.whl (1.5MB)\n",
            "\u001b[K     |████████████████████████████████| 1.6MB 5.4MB/s \n",
            "\u001b[?25hInstalling collected packages: pip\n",
            "  Found existing installation: pip 19.3.1\n",
            "    Uninstalling pip-19.3.1:\n",
            "      Successfully uninstalled pip-19.3.1\n",
            "Successfully installed pip-21.1.2\n",
            "Collecting nashpy\n",
            "  Downloading nashpy-0.0.22.tar.gz (11 kB)\n",
            "\u001b[33mWARNING: Discarding https://files.pythonhosted.org/packages/93/1c/9005c6a0a3a3b183b5b216cc02cef14bb080fd3ee8733a1006fbcd81fffc/nashpy-0.0.22.tar.gz#sha256=9378fd492f01163ac01a7384dd94f7ffa3ce40e31fe2a08844a2e34576b3d8db (from https://pypi.org/simple/nashpy/). Command errored out with exit status 1: python setup.py egg_info Check the logs for full command output.\u001b[0m\n",
            "  Downloading nashpy-0.0.21.tar.gz (11 kB)\n",
            "Requirement already satisfied: numpy>=1.12.1 in /usr/local/lib/python3.7/dist-packages (from nashpy) (1.19.5)\n",
            "Requirement already satisfied: scipy>=0.19.0 in /usr/local/lib/python3.7/dist-packages (from nashpy) (1.4.1)\n",
            "Building wheels for collected packages: nashpy\n",
            "  Building wheel for nashpy (setup.py) ... \u001b[?25l\u001b[?25hdone\n",
            "  Created wheel for nashpy: filename=nashpy-0.0.21-py3-none-any.whl size=15281 sha256=dfde607fdd0c926d20af302c873c04fab4121d03e74d5d80c1bafc1051b785f9\n",
            "  Stored in directory: /root/.cache/pip/wheels/02/08/62/cf4fa931e0a317d180936b266169a57f4bb4eb801465bbe8a1\n",
            "Successfully built nashpy\n",
            "Installing collected packages: nashpy\n",
            "Successfully installed nashpy-0.0.21\n",
            "\u001b[33mWARNING: Running pip as root will break packages and permissions. You should install packages reliably by using venv: https://pip.pypa.io/warnings/venv\u001b[0m\n"
          ],
          "name": "stdout"
        }
      ]
    },
    {
      "cell_type": "markdown",
      "metadata": {
        "id": "2PaRQIc33Lhd"
      },
      "source": [
        "<font face = Times size=4>\n",
        "\n",
        "    \n",
        "</font>"
      ]
    },
    {
      "cell_type": "markdown",
      "metadata": {
        "id": "z4ry08g53Lhd"
      },
      "source": [
        "---\n",
        "\n",
        "<font face = Times size = 4>\n",
        "    \n",
        "***Example1 - Prisoner's Dilemma:***\n",
        "\n",
        "</font>\n",
        "\n",
        "<div align=\"center\">\n",
        "<img src=https://miro.medium.com/max/875/1*0gzVtISbPIhodbqul6eBMw.jpeg width=\"40%\"/>\n",
        "    </div>\n",
        "<font face = Times size = 3>\n",
        "    <center> Fig1: Prisoner's Dilemma </center>\n",
        "    </font>"
      ]
    },
    {
      "cell_type": "code",
      "metadata": {
        "colab": {
          "base_uri": "https://localhost:8080/"
        },
        "id": "vDFRmbp6IeIQ",
        "cellView": "form",
        "outputId": "a17444e3-2969-4a46-e4c0-20475015c891"
      },
      "source": [
        "#@title Table1: Prisoner's Dilemma\n",
        "# import module\n",
        "from tabulate import tabulate\n",
        "table = [['','','Prisoner B','Prisoner B'],\n",
        "         ['','','confess','deny'],\n",
        "         ['Prisoner A','confess','-3,-3','0,-6'],\n",
        "         ['Prisoner A','deny','-6,0','-1,-1']]\n",
        "print(tabulate(table,tablefmt='grid'))"
      ],
      "execution_count": null,
      "outputs": [
        {
          "output_type": "stream",
          "text": [
            "+------------+---------+------------+------------+\n",
            "|            |         | Prisoner B | Prisoner B |\n",
            "+------------+---------+------------+------------+\n",
            "|            |         | confess    | deny       |\n",
            "+------------+---------+------------+------------+\n",
            "| Prisoner A | confess | -3,-3      | 0,-6       |\n",
            "+------------+---------+------------+------------+\n",
            "| Prisoner A | deny    | -6,0       | -1,-1      |\n",
            "+------------+---------+------------+------------+\n"
          ],
          "name": "stdout"
        }
      ]
    },
    {
      "cell_type": "code",
      "metadata": {
        "colab": {
          "base_uri": "https://localhost:8080/",
          "height": 142
        },
        "id": "5BmYd9joQwCD",
        "cellView": "form",
        "outputId": "82dae2bb-4d54-487c-f5de-b6f5fe5df4aa"
      },
      "source": [
        "#@title Table1: Prisoner's Dilemma\n",
        "import pandas as pd\n",
        "import numpy as np\n",
        "df2 = pd.DataFrame([['-3,-3','0,-6'],\n",
        "                    ['-6,0','-1,-1']],\n",
        "                  columns = [['Prisoner A','Prisoner A'],['confess','deny']],\n",
        "                  index = [['Prisoner B','Prisoner B'],['confess','deny']])\n",
        "df2"
      ],
      "execution_count": null,
      "outputs": [
        {
          "output_type": "execute_result",
          "data": {
            "text/html": [
              "<div>\n",
              "<style scoped>\n",
              "    .dataframe tbody tr th:only-of-type {\n",
              "        vertical-align: middle;\n",
              "    }\n",
              "\n",
              "    .dataframe tbody tr th {\n",
              "        vertical-align: top;\n",
              "    }\n",
              "\n",
              "    .dataframe thead tr th {\n",
              "        text-align: left;\n",
              "    }\n",
              "</style>\n",
              "<table border=\"1\" class=\"dataframe\">\n",
              "  <thead>\n",
              "    <tr>\n",
              "      <th></th>\n",
              "      <th></th>\n",
              "      <th colspan=\"2\" halign=\"left\">Prisoner A</th>\n",
              "    </tr>\n",
              "    <tr>\n",
              "      <th></th>\n",
              "      <th></th>\n",
              "      <th>confess</th>\n",
              "      <th>deny</th>\n",
              "    </tr>\n",
              "  </thead>\n",
              "  <tbody>\n",
              "    <tr>\n",
              "      <th rowspan=\"2\" valign=\"top\">Prisoner B</th>\n",
              "      <th>confess</th>\n",
              "      <td>-3,-3</td>\n",
              "      <td>0,-6</td>\n",
              "    </tr>\n",
              "    <tr>\n",
              "      <th>deny</th>\n",
              "      <td>-6,0</td>\n",
              "      <td>-1,-1</td>\n",
              "    </tr>\n",
              "  </tbody>\n",
              "</table>\n",
              "</div>"
            ],
            "text/plain": [
              "                   Prisoner A       \n",
              "                      confess   deny\n",
              "Prisoner B confess      -3,-3   0,-6\n",
              "           deny          -6,0  -1,-1"
            ]
          },
          "metadata": {
            "tags": []
          },
          "execution_count": 1
        }
      ]
    },
    {
      "cell_type": "markdown",
      "metadata": {
        "id": "poDL1QyS3Lhe"
      },
      "source": [
        "<font face = Times size = 4>\n",
        "\n",
        "    \n",
        "Consider the following scenario: Two prisoners have partnered in a crime and they are being questioned in separate rooms. Each of them has 2 strategies - \n",
        "\n",
        "<center>a) Confess to the crime — Confess</center>\n",
        "<center>b) Denial of being involved — Deny</center>\n",
        "\n",
        "If only one prisoner confesses, then he would go free and the other prisoner would be booked and made to serve 6 months in prison. However, if both deny to the crime then they would need to serve 1 month each in prison and if they both confess then they would each need to serve 3 months in prison.\n",
        "</font>"
      ]
    },
    {
      "cell_type": "markdown",
      "metadata": {
        "id": "FnJLAfu_3Lhe"
      },
      "source": [
        "<font face = Times size = 4>\n",
        "    \n",
        "***Question:*** What is the equilibrium strategy profile?\n",
        "\n",
        "</font>"
      ]
    },
    {
      "cell_type": "markdown",
      "metadata": {
        "id": "jr_TALaR3Lhf"
      },
      "source": [
        "<font face = Times size = 4>\n",
        "\n",
        "***Answer and stategy:*** \n",
        "\n",
        "If Prisoner A confesses then it is better for Prisoner B to confess because his payoff of -3 > payoff of -6 . If Prisoner A denies then it is better for Prisoner B to confess because his payoff of 0 > payoff of -1 and he can get off scot free. Hence, in both the cases, irrespective of what prisoner B does it is better for prisoner A to confess always.\n",
        "    \n",
        "The same logic applies for prisoner B as well. Thus (Confess, Confess) is the Nash equilibrium in this game. This is also the dominant strategy equilibrium because each prisoner has an optimal strategy independent of the other player.\n",
        "\n",
        "</font>"
      ]
    },
    {
      "cell_type": "markdown",
      "metadata": {
        "id": "CTZu4ErQ3Lhf"
      },
      "source": [
        "<font face = Times size = 4>\n",
        "    \n",
        "***Solve for the Nash equilibrium in game-1 with Python code:***\n",
        "    \n",
        "</font>    "
      ]
    },
    {
      "cell_type": "code",
      "metadata": {
        "id": "KugITd-d3Lhf",
        "colab": {
          "base_uri": "https://localhost:8080/"
        },
        "outputId": "dce54d86-3f72-4154-b698-679198cdd554"
      },
      "source": [
        "import nashpy as nash\n",
        "import numpy as np\n",
        "\n",
        "# Creater the game with the payoff matrix\n",
        "\n",
        "A = np.array([[-3,0],\n",
        "              [-6,-1]]) # A is the row player (in this case, prisoner)\n",
        "\n",
        "B = np.array([[-3,-6],\n",
        "              [0,-1]]) # B is the column player\n",
        "\n",
        "game1 = nash.Game(A,B)\n",
        "\n",
        "equilibria = game1.support_enumeration()\n",
        "for eq in equilibria:\n",
        "    print(eq)"
      ],
      "execution_count": null,
      "outputs": [
        {
          "output_type": "stream",
          "text": [
            "(array([1., 0.]), array([1., 0.]))\n"
          ],
          "name": "stdout"
        }
      ]
    },
    {
      "cell_type": "markdown",
      "metadata": {
        "id": "icYrWh-n3Lhh"
      },
      "source": [
        "<font face = Times size = 4>\n",
        "\n",
        "***Interpretation of the results:*** \n",
        "    \n",
        "The output can be interpreted as: Prisoner A chooses to confess as given by ‘1’ in the first position of the array and Prisoner B chooses to confess as given by ‘1’ in the first position of the array. Hence, as we saw earlier (Top, Left)/(Confess, Confess) is the NE or outcome of this \"game\".\n",
        "    \n",
        "</font>"
      ]
    },
    {
      "cell_type": "markdown",
      "metadata": {
        "id": "AWeLfXTG3Lhh"
      },
      "source": [
        "---\n",
        "\n",
        "<font face = Times size = 4>\n",
        "    \n",
        "***Example2 - Match pennies:***\n",
        "\n",
        "</font>\n",
        "\n",
        "<div align=\"center\">\n",
        "<img src=\"https://www.classes.cs.uchicago.edu/archive/2015/winter/12200-1/assignments/pa3/images/mp.png\" width=\"40%\"/>\n",
        "    </div>\n",
        "<font face = Times size = 3>\n",
        "    <center> Fig2: Match pennies </center>\n",
        "    </font>"
      ]
    },
    {
      "cell_type": "code",
      "metadata": {
        "colab": {
          "base_uri": "https://localhost:8080/"
        },
        "id": "tNvCFmIGYF-F",
        "cellView": "form",
        "outputId": "d9b0446a-51c8-44ec-fa10-271c0f948206"
      },
      "source": [
        "#@title Table2: Match pennies\n",
        "# import module\n",
        "from tabulate import tabulate\n",
        "table = [['','','Player 2','Player 2'],\n",
        "         ['','','Heads','Tails'],\n",
        "         ['Player 1','Heads','1,-1','-1,1'],\n",
        "         ['Player 1','Tails','-1,1','1,-1']]\n",
        "print(tabulate(table,tablefmt='grid'))"
      ],
      "execution_count": null,
      "outputs": [
        {
          "output_type": "stream",
          "text": [
            "+----------+-------+----------+----------+\n",
            "|          |       | Player 2 | Player 2 |\n",
            "+----------+-------+----------+----------+\n",
            "|          |       | Heads    | Tails    |\n",
            "+----------+-------+----------+----------+\n",
            "| Player 1 | Heads | 1,-1     | -1,1     |\n",
            "+----------+-------+----------+----------+\n",
            "| Player 1 | Tails | -1,1     | 1,-1     |\n",
            "+----------+-------+----------+----------+\n"
          ],
          "name": "stdout"
        }
      ]
    },
    {
      "cell_type": "code",
      "metadata": {
        "colab": {
          "base_uri": "https://localhost:8080/",
          "height": 138
        },
        "id": "5f8ZiX8iYXVC",
        "cellView": "form",
        "outputId": "cff292ff-6ee3-4c27-e811-480b1c699bf6"
      },
      "source": [
        "#@title Table2: Match pennies\n",
        "import pandas as pd\n",
        "import numpy as np\n",
        "df2 = pd.DataFrame([['1,-1','-1,1'],\n",
        "                    ['-1,1','1,-1']],\n",
        "                  columns = [['Player 2','Player 2'],['Heads','Tails']],\n",
        "                  index = [['Player 1','Player 1'],['Heads','Tails']])\n",
        "df2"
      ],
      "execution_count": null,
      "outputs": [
        {
          "output_type": "execute_result",
          "data": {
            "text/html": [
              "<div>\n",
              "<style scoped>\n",
              "    .dataframe tbody tr th:only-of-type {\n",
              "        vertical-align: middle;\n",
              "    }\n",
              "\n",
              "    .dataframe tbody tr th {\n",
              "        vertical-align: top;\n",
              "    }\n",
              "\n",
              "    .dataframe thead tr th {\n",
              "        text-align: left;\n",
              "    }\n",
              "</style>\n",
              "<table border=\"1\" class=\"dataframe\">\n",
              "  <thead>\n",
              "    <tr>\n",
              "      <th></th>\n",
              "      <th></th>\n",
              "      <th colspan=\"2\" halign=\"left\">Player 2</th>\n",
              "    </tr>\n",
              "    <tr>\n",
              "      <th></th>\n",
              "      <th></th>\n",
              "      <th>Heads</th>\n",
              "      <th>Tails</th>\n",
              "    </tr>\n",
              "  </thead>\n",
              "  <tbody>\n",
              "    <tr>\n",
              "      <th rowspan=\"2\" valign=\"top\">Player 1</th>\n",
              "      <th>Heads</th>\n",
              "      <td>1,-1</td>\n",
              "      <td>-1,1</td>\n",
              "    </tr>\n",
              "    <tr>\n",
              "      <th>Tails</th>\n",
              "      <td>-1,1</td>\n",
              "      <td>1,-1</td>\n",
              "    </tr>\n",
              "  </tbody>\n",
              "</table>\n",
              "</div>"
            ],
            "text/plain": [
              "               Player 2      \n",
              "                  Heads Tails\n",
              "Player 1 Heads     1,-1  -1,1\n",
              "         Tails     -1,1  1,-1"
            ]
          },
          "metadata": {
            "tags": []
          },
          "execution_count": 1
        }
      ]
    },
    {
      "cell_type": "markdown",
      "metadata": {
        "id": "pzuQ0_8y3Lhh"
      },
      "source": [
        "<font face = Times size = 4>\n",
        "\n",
        "Matching pennies is a game played between two players. Each player has a penny and must secretly turn the penny to heads or tails. The players then reveal their choices simultaneously. If the pennies match (both heads or both tails), then Even keeps both pennies, so wins one from Odd (+1 for Even, −1 for Odd). If the pennies do not match (one heads and one tails) Odd keeps both pennies, so receives one from Even (−1 for Even, +1 for Odd).\n",
        "\n",
        "</font>"
      ]
    },
    {
      "cell_type": "markdown",
      "metadata": {
        "id": "y7T9qrUx3Lhi"
      },
      "source": [
        "<font face = Times size = 4>\n",
        "    \n",
        "***Question:*** What will be the Nash equilibrium of this game?\n",
        "\n",
        "</font>"
      ]
    },
    {
      "cell_type": "markdown",
      "metadata": {
        "id": "1XiyInX-3Lhi"
      },
      "source": [
        "<font face = Times size = 4>\n",
        "    \n",
        "***Hint:*** This game has no pure strategy Nash equilibrium since there is no pure strategy (heads or tails) that is a best response to a best response. In other words, there is no pair of pure strategies such that neither player would want to switch if told what the other would do. Instead, the unique Nash equilibrium of this game is in mixed strategies: each player chooses heads or tails with equal probability.\n",
        "\n",
        "</font>"
      ]
    },
    {
      "cell_type": "code",
      "metadata": {
        "id": "WUPndcmG3Lhi",
        "colab": {
          "base_uri": "https://localhost:8080/",
          "height": 365
        },
        "outputId": "2ac61934-c583-424c-a3e5-340ca0c9dd57"
      },
      "source": [
        "import nashpy as nash\n",
        "import numpy as np\n",
        "\n",
        "# Creater the game with the payoff matrix\n",
        "\n",
        "C = np.array([[1,-1],\n",
        "              [-1,1]]) # C is the row player\n",
        "              \n",
        "D = np.array([[-1,1],\n",
        "              [1,-1]]) # D is the column player\n",
        "\n",
        "game2 = nash.Game(C,D)\n",
        "\n",
        "# find the Nash equilibrium with Support Enumeration\n",
        "\n",
        "equilibria = game2.support_enumeration()\n",
        "for eq in equilibria:\n",
        "    print(eq)"
      ],
      "execution_count": null,
      "outputs": [
        {
          "output_type": "error",
          "ename": "ModuleNotFoundError",
          "evalue": "ignored",
          "traceback": [
            "\u001b[0;31m---------------------------------------------------------------------------\u001b[0m",
            "\u001b[0;31mModuleNotFoundError\u001b[0m                       Traceback (most recent call last)",
            "\u001b[0;32m<ipython-input-1-b3dfcb1baefd>\u001b[0m in \u001b[0;36m<module>\u001b[0;34m()\u001b[0m\n\u001b[0;32m----> 1\u001b[0;31m \u001b[0;32mimport\u001b[0m \u001b[0mnashpy\u001b[0m \u001b[0;32mas\u001b[0m \u001b[0mnash\u001b[0m\u001b[0;34m\u001b[0m\u001b[0;34m\u001b[0m\u001b[0m\n\u001b[0m\u001b[1;32m      2\u001b[0m \u001b[0;32mimport\u001b[0m \u001b[0mnumpy\u001b[0m \u001b[0;32mas\u001b[0m \u001b[0mnp\u001b[0m\u001b[0;34m\u001b[0m\u001b[0;34m\u001b[0m\u001b[0m\n\u001b[1;32m      3\u001b[0m \u001b[0;34m\u001b[0m\u001b[0m\n\u001b[1;32m      4\u001b[0m \u001b[0;31m# Creater the game with the payoff matrix\u001b[0m\u001b[0;34m\u001b[0m\u001b[0;34m\u001b[0m\u001b[0;34m\u001b[0m\u001b[0m\n\u001b[1;32m      5\u001b[0m \u001b[0;34m\u001b[0m\u001b[0m\n",
            "\u001b[0;31mModuleNotFoundError\u001b[0m: No module named 'nashpy'",
            "",
            "\u001b[0;31m---------------------------------------------------------------------------\u001b[0;32m\nNOTE: If your import is failing due to a missing package, you can\nmanually install dependencies using either !pip or !apt.\n\nTo view examples of installing some common dependencies, click the\n\"Open Examples\" button below.\n\u001b[0;31m---------------------------------------------------------------------------\u001b[0m\n"
          ]
        }
      ]
    },
    {
      "cell_type": "markdown",
      "metadata": {
        "id": "Bm1XuA4s3Lhj"
      },
      "source": [
        "<font face = Times size = 4>\n",
        "\n",
        "***Interpretation of the results:*** \n",
        "    \n",
        "Each player chooses heads or tails with equal probability = 50%, which matches our analysis above!\n",
        "    \n",
        "</font>"
      ]
    },
    {
      "cell_type": "markdown",
      "metadata": {
        "id": "8f2pDZN_3Lhj"
      },
      "source": [
        "---\n",
        "\n",
        "<font face = Times size = 4>\n",
        "    \n",
        "***Example3 - Battle of sex:***\n",
        "\n",
        "</font>\n",
        "\n",
        "<div align=\"center\">\n",
        "<img src=\"data:image/png;base64,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\" width=\"40%\"/>\n",
        "    </div>\n",
        "<font face = Times size = 3>\n",
        "    <center> Fig3: Battle of sex </center>\n",
        "    </font>\n",
        "\n",
        "\n"
      ]
    },
    {
      "cell_type": "code",
      "metadata": {
        "colab": {
          "base_uri": "https://localhost:8080/"
        },
        "id": "dZZDBzWPYpeQ",
        "cellView": "form",
        "outputId": "ff6a3b4f-7d76-474c-fd43-d733a8e86670"
      },
      "source": [
        "#@title Table3: Battle of sex\n",
        "# import module\n",
        "from tabulate import tabulate\n",
        "table = [['','','WOMAN','WOMAN'],\n",
        "         ['','','Boxing','Shopping'],\n",
        "         ['MAN','Boxing','2,1','0,0'],\n",
        "         ['MAN','Shopping','0,0','1,2']]\n",
        "print(tabulate(table,tablefmt='grid'))"
      ],
      "execution_count": null,
      "outputs": [
        {
          "output_type": "stream",
          "text": [
            "+-----+----------+--------+----------+\n",
            "|     |          | WOMAN  | WOMAN    |\n",
            "+-----+----------+--------+----------+\n",
            "|     |          | Boxing | Shopping |\n",
            "+-----+----------+--------+----------+\n",
            "| MAN | Boxing   | 2,1    | 0,0      |\n",
            "+-----+----------+--------+----------+\n",
            "| MAN | Shopping | 0,0    | 1,2      |\n",
            "+-----+----------+--------+----------+\n"
          ],
          "name": "stdout"
        }
      ]
    },
    {
      "cell_type": "code",
      "metadata": {
        "colab": {
          "base_uri": "https://localhost:8080/",
          "height": 138
        },
        "id": "_2RbysouYsMO",
        "cellView": "form",
        "outputId": "d1ee9544-8f7a-4bb5-d0cc-f4a01089ae59"
      },
      "source": [
        "#@title Table3: Battle of sex\n",
        "import pandas as pd\n",
        "import numpy as np\n",
        "df2 = pd.DataFrame([['2,1','0,0'],\n",
        "                    ['0,0','1,2']],\n",
        "                  columns = [['WOMAN','WOMAN'],['Boxing','Shopping']],\n",
        "                  index = [['MAN','MAN'],['Boxing','Shopping']])\n",
        "df2"
      ],
      "execution_count": null,
      "outputs": [
        {
          "output_type": "execute_result",
          "data": {
            "text/html": [
              "<div>\n",
              "<style scoped>\n",
              "    .dataframe tbody tr th:only-of-type {\n",
              "        vertical-align: middle;\n",
              "    }\n",
              "\n",
              "    .dataframe tbody tr th {\n",
              "        vertical-align: top;\n",
              "    }\n",
              "\n",
              "    .dataframe thead tr th {\n",
              "        text-align: left;\n",
              "    }\n",
              "</style>\n",
              "<table border=\"1\" class=\"dataframe\">\n",
              "  <thead>\n",
              "    <tr>\n",
              "      <th></th>\n",
              "      <th></th>\n",
              "      <th colspan=\"2\" halign=\"left\">WOMAN</th>\n",
              "    </tr>\n",
              "    <tr>\n",
              "      <th></th>\n",
              "      <th></th>\n",
              "      <th>Boxing</th>\n",
              "      <th>Shopping</th>\n",
              "    </tr>\n",
              "  </thead>\n",
              "  <tbody>\n",
              "    <tr>\n",
              "      <th rowspan=\"2\" valign=\"top\">MAN</th>\n",
              "      <th>Boxing</th>\n",
              "      <td>2,1</td>\n",
              "      <td>0,0</td>\n",
              "    </tr>\n",
              "    <tr>\n",
              "      <th>Shopping</th>\n",
              "      <td>0,0</td>\n",
              "      <td>1,2</td>\n",
              "    </tr>\n",
              "  </tbody>\n",
              "</table>\n",
              "</div>"
            ],
            "text/plain": [
              "              WOMAN         \n",
              "             Boxing Shopping\n",
              "MAN Boxing      2,1      0,0\n",
              "    Shopping    0,0      1,2"
            ]
          },
          "metadata": {
            "tags": []
          },
          "execution_count": 2
        }
      ]
    },
    {
      "cell_type": "markdown",
      "metadata": {
        "id": "40w-6cBY3Lhk"
      },
      "source": [
        "<font face = Times size = 4>\n",
        "\n",
        "Imagine that Player 1 (MAN) and Player 2 (WOMAN) agreed to meet this evening, but cannot recall if they will be go boxing or a go shopping (and the fact that they forgot is common knowledge). Player 1 would prefer to go boxing. Player 2 would rather go shopping. Both would prefer to go to the same place rather than different ones. If they cannot communicate, where should they go?\n",
        "    \n",
        "</font>"
      ]
    },
    {
      "cell_type": "markdown",
      "metadata": {
        "id": "fb-Vh6OnWNFE"
      },
      "source": [
        "\n",
        "\n",
        "<font face = Times size = 4>\n",
        "    \n",
        "***Question3.1:*** What will be the Nash equilibrium of this game?    \n",
        "</font>    "
      ]
    },
    {
      "cell_type": "markdown",
      "metadata": {
        "id": "hTErIM3Y3Lhk"
      },
      "source": [
        "<font face = Times size = 4>\n",
        "\n",
        "***Answer and stategy:*** \n",
        "    \n",
        "In this game, if player 2 chooses left , then player 1’s pay-offs are either 2 or 0. While, when player 2 chooses right, player 1’s pay-offs are 0 or 1. Hence, if player 2 chooses left player 1 should choose Top and if player 2 chooses Right then player 1 should choose Bottom. This, optimal choice of player 1 is dependent on what choice player 2 makes.\n",
        "    \n",
        "In this game, strategy (Top, Left) is a Nash equilibrium because if player 1 chooses Top, then the best thing for player 2 is to choose Left because his pay-off for choosing left is 1 as opposed to 0 if he chooses bottom. Similarly if player 2 chooses left then best choice for player 1 is to choose Top, because he will get a higher pay-off of 2 if he chooses Top versus he will get 0 if he chooses Bottom.\n",
        "\n",
        "</font>"
      ]
    },
    {
      "cell_type": "markdown",
      "metadata": {
        "id": "0aoXnk3q3Lhk"
      },
      "source": [
        "<font face = Times size = 4>\n",
        "    \n",
        "***Solve for the Nash equilibrium in game-2 with Python:***\n",
        "    \n",
        "</font>    "
      ]
    },
    {
      "cell_type": "code",
      "metadata": {
        "id": "xIZV4eeA3Lhk",
        "outputId": "c812eab1-b050-4e95-fb18-9af1fb193ae4"
      },
      "source": [
        "# Create the payoff matrix\n",
        "\n",
        "A = np.array([[2,0],[0,1]]) # A is the row player\n",
        "B = np.array([[1,0],[0,2]]) # B is the column player\n",
        "\n",
        "game2 = nash.Game(A,B)\n",
        "game2\n",
        "\n",
        "# Find the Nash Equilibrium with Support Enumeration\n",
        "equilibria = game2.support_enumeration()\n",
        "for eq in equilibria:\n",
        "    print(eq)"
      ],
      "execution_count": null,
      "outputs": [
        {
          "output_type": "stream",
          "text": [
            "(array([1., 0.]), array([1., 0.]))\n",
            "(array([0., 1.]), array([0., 1.]))\n",
            "(array([0.66666667, 0.33333333]), array([0.33333333, 0.66666667]))\n"
          ],
          "name": "stdout"
        }
      ]
    },
    {
      "cell_type": "markdown",
      "metadata": {
        "id": "X-jGvWQX3Lhk"
      },
      "source": [
        "<font face = Times size = 4>\n",
        "\n",
        "***Interpratation of the results:*** \n",
        "    \n",
        "**Line 1:\"(array([1., 0.]), array([1., 0.]))\"**\n",
        "    \n",
        "&nbsp; &nbsp; **Interpretation:** This is the first Nash equilibrium (Top, Left).Player A chooses strategy 1 i.e. ‘Top’ as given by ‘1’ in the first position of the first array and Player B chooses strategy 1 i.e. ‘Left’ as given by ‘1’ in the first position of the second array.\n",
        "\n",
        "**Line 2:\"(array([0., 1.]), array([0., 1.]))\"**\n",
        "    \n",
        "&nbsp; &nbsp; **Interpretation:** This is the second Nash equilibrium (Bottom, Right).Player A chooses strategy 2 i.e. ‘Bottom’ as given by ‘1’ in the second position of the first array and Player B chooses strategy 2 i.e. ‘Right’ as given by ‘1’ in the second position of the second array.\n",
        "    \n",
        "**Line 3:\"(array([0.66666667, 0.33333333]), array([0.33333333, 0.66666667])) \"**\n",
        "    \n",
        "&nbsp; &nbsp; **Interpretation:** Player A plays strategy 1 i.e. “Top” 66.67% of the times and strategy 2 i.e. “Bottom” 33.33% of the times while Player B plays strategy 1 i.e. “Left” 33.33% of the times and strategy 2 i.e. “Right” 66.67% of the times.\n",
        "Logically also, Player A should assign higher probability to “Top” and player B to “Right” because these give them higher pay-offs.\n",
        "This equilibrium is a **mixed strategy Nash equilibrium**.\n",
        "    \n",
        "</font>"
      ]
    },
    {
      "cell_type": "markdown",
      "metadata": {
        "id": "J7vf-6Xe3Lhl"
      },
      "source": [
        "<font face = Times size = 4>\n",
        "    \n",
        "***Question3.2:*** Calculate the utility /pay-offs of Player A and Player B in the mixed strategy Nash equilibrium.\n",
        "\n",
        "</font>"
      ]
    },
    {
      "cell_type": "markdown",
      "metadata": {
        "id": "vmMXaU143Lhl"
      },
      "source": [
        "<font face = Times size = 4>\n",
        "\n",
        "***Answer and stategy:*** \n",
        "    \n",
        "Consider the game:     \n",
        "$$(A, B) \\in \\mathbb{R}^{\\operatorname{mxn}}$$\n",
        "with $\\sigma_{r}$ and $\\sigma_{c}$ are the mixed strategies for the row and column players here A and B respectively. Then the utility/pay-off for the row player (A) is:\n",
        "$$\n",
        "u_{r}\\left(\\sigma_{r}, \\sigma_{c}\\right)=\\sum_{i=1}^{m} \\sum_{j=1}^{n} A_{i j} \\sigma_{r i} \\sigma_{c j}\n",
        "$$\n",
        "and utility/pay-off for the column player (B) is:\n",
        "$$\n",
        "u_{c}\\left(\\sigma_{r}, \\sigma_{c}\\right)=\\sum_{i=1}^{m} \\sum_{j=1}^{n} B_{i j} \\sigma_{r i} \\sigma_{c j}\n",
        "$$\n",
        "The probability of being in a given cell of (A or B) is\n",
        "$$\n",
        "\\sigma_{r i} \\sigma_{c j}\n",
        "$$\n",
        "The value of the cell is\n",
        "$$\n",
        "A_{i j} \\text { or } B_{i j}\n",
        "$$\n",
        "    \n",
        "In our case, utility to A will be: $0.67\\times0.33\\times2 +0.33\\times0.67\\times0+0.33\\times0.67\\times0+0.33\\times0.67\\times1 = \\frac{2}{3}$\n",
        "    \n",
        "and for B it will be: $0.33\\times0.67\\times1 + 0.67\\times0.33\\times0 + 0.33\\times0.67\\times0+0.67\\times0.33\\times2 = \\frac{2}{3}$\n",
        "</font>"
      ]
    },
    {
      "cell_type": "markdown",
      "metadata": {
        "id": "JKWDwD663Lhl"
      },
      "source": [
        "<font face = Times size = 4>\n",
        "    \n",
        "***Solve for the pay-offs of Player A and B in the mixed strategy Nash equilibrium with Python:***\n",
        "    \n",
        "</font>    "
      ]
    },
    {
      "cell_type": "code",
      "metadata": {
        "id": "ByXQUj0u3Lhl",
        "outputId": "fbc2f910-0f2f-4185-ba68-290388f0bbdc"
      },
      "source": [
        "# Calculate Utilities\n",
        "\n",
        "sigma_r = np.array([.67,.33])\n",
        "sigma_c = np.array([.33,.67])\n",
        "pd = nash.Game(A, B)\n",
        "pd[sigma_r, sigma_c]"
      ],
      "execution_count": null,
      "outputs": [
        {
          "output_type": "execute_result",
          "data": {
            "text/plain": [
              "array([0.6633, 0.6633])"
            ]
          },
          "metadata": {
            "tags": []
          },
          "execution_count": 4
        }
      ]
    },
    {
      "cell_type": "markdown",
      "metadata": {
        "id": "q91tu6h93Lhm"
      },
      "source": [
        "<font face = Times size = 4>\n",
        "    \n",
        "The output of the code both equals to 2/3, which matches with our calculation above.\n",
        "\n",
        "</font>"
      ]
    }
  ]
}